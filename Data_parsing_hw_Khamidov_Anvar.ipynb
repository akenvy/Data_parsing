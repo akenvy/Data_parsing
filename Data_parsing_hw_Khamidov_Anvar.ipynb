{
 "cells": [
  {
   "cell_type": "markdown",
   "metadata": {},
   "source": [
    "### Домашнее задание\n",
    "\n",
    "#  Анализ данных цен на обувь\n",
    "\n",
    "<br><br>\n",
    "\n",
    "В этом задании мы будем заниматься анализом данных цен на обувь в магазине ASOS. Потребуется воспользоваться всеми знаниями, полученными на курсе. Задание разделено на два блока:\n",
    "\n",
    "1. Сбор данных\n",
    "2. Анализ данных\n",
    "\n",
    "Следуйте инструкциями, указанным ниже. В качестве результата вышлите архив с этим файлом и с csv-табличкой с данными.\n",
    "\n",
    "<br><br>\n",
    "\n"
   ]
  },
  {
   "cell_type": "markdown",
   "metadata": {},
   "source": [
    "## Часть 1. Сбор данных (6 баллов)"
   ]
  },
  {
   "cell_type": "markdown",
   "metadata": {},
   "source": [
    "В этой части ДЗ мы соберём данные и построим табличку со всем позициями женской и мужской обуви. \n",
    "\n",
    "<br>\n",
    "\n",
    "**Требуется**\n",
    "* собрать данные о ценах на обувь с сайта ASOS\n",
    "* составить таблицу `pd.DataFrame` со столбцами `title`, `price`, `price_sale`, `sex`.\n",
    "* в этих столбцах хранятся\n",
    "    * наименование позиции (`str`)\n",
    "    * цена (`float`)\n",
    "    * цена со скидкой, если есть (`float`). Если скидки нет, то ставьте пропуск с помощью `float('nan')`\n",
    "    * Индикатор `male` для мужской обуви и `female` - для женской.\n",
    "\n",
    "<br>\n"
   ]
  },
  {
   "cell_type": "markdown",
   "metadata": {},
   "source": [
    "Даны ссылка на каталог всей имеющейся в магазине ASOS обуви для мужчин."
   ]
  },
  {
   "cell_type": "code",
   "execution_count": 1,
   "metadata": {},
   "outputs": [],
   "source": [
    "male_url = 'https://www.asos.com/ru/men/ctas/generiruemoe-promo/aktsiya-2/cat/?cid=28031&nlid=mw|%D0%B0%D0%BA%D1%86%D0%B8%D0%B8|ctas&page=1'"
   ]
  },
  {
   "cell_type": "markdown",
   "metadata": {},
   "source": [
    "Такая же ссылка - для женской обуви."
   ]
  },
  {
   "cell_type": "code",
   "execution_count": 2,
   "metadata": {},
   "outputs": [],
   "source": [
    "female_url = 'https://www.asos.com/ru/women/ctas/generiruemoe-promo/aktsiya-2/cat/?cid=28022&nlid=ww|%D0%B0%D0%BA%D1%86%D0%B8%D0%B8|ctas&page=1'"
   ]
  },
  {
   "cell_type": "markdown",
   "metadata": {},
   "source": [
    "Можно пройти по ссылками и убедиться."
   ]
  },
  {
   "cell_type": "code",
   "execution_count": 3,
   "metadata": {},
   "outputs": [
    {
     "name": "stdout",
     "output_type": "stream",
     "text": [
      "https://www.asos.com/ru/men/ctas/generiruemoe-promo/aktsiya-2/cat/?cid=28031&nlid=mw|%D0%B0%D0%BA%D1%86%D0%B8%D0%B8|ctas&page=1\n"
     ]
    }
   ],
   "source": [
    "print(male_url)"
   ]
  },
  {
   "cell_type": "code",
   "execution_count": 4,
   "metadata": {},
   "outputs": [
    {
     "name": "stdout",
     "output_type": "stream",
     "text": [
      "https://www.asos.com/ru/women/ctas/generiruemoe-promo/aktsiya-2/cat/?cid=28022&nlid=ww|%D0%B0%D0%BA%D1%86%D0%B8%D0%B8|ctas&page=1\n"
     ]
    }
   ],
   "source": [
    "print(female_url)"
   ]
  },
  {
   "cell_type": "markdown",
   "metadata": {},
   "source": [
    "<br>\n",
    "\n",
    "Обратите внимание, что ссылки ведут только на начало каталога. Однако если вы посмотрите на конец URL, то увидете цифру 1. Заменив, эту цифру на 2, и перейдя по новой ссылке, мы попадём на вторую страницу каталога (убедитесь самостоятельно).\n",
    "\n",
    "Таким образом, если мы умеем извлекать данные с одной страницы каталога, нам не составит труда сгенерировать ссылки для всех остальных страниц, пройтись по ним циклом, и собрать данные о ценнах всей имеющейся обуви."
   ]
  },
  {
   "cell_type": "markdown",
   "metadata": {},
   "source": [
    "Но давайте действовать последовательно. Начнём со вспомогательной функции. Обратите внимание, что цены на обувь на сайте отображаются в таком формате `2 890,00 руб.`, а нам необходимы объекты типа `float`. Давайте для начала реализуем функцию, которая превращает строку такого формата в число (например, получает на вход строку `2 890,00 руб.`, а возвращает число `2890`). "
   ]
  },
  {
   "cell_type": "code",
   "execution_count": 5,
   "metadata": {},
   "outputs": [],
   "source": [
    "def convert_price_to_num(price_str):\n",
    "    return float(price_str.replace(' руб.', '').replace(' ', '').replace(',', '.').strip())\n",
    "    "
   ]
  },
  {
   "cell_type": "markdown",
   "metadata": {},
   "source": [
    "<br>"
   ]
  },
  {
   "cell_type": "markdown",
   "metadata": {},
   "source": [
    "Теперь давайте научимся собирать данные хотя бы с одной страницы. Реализуйте функцию `get_data_from_asos_page`, которая на вход будет получать объект типа `bs4.BeautifulSoup`, построенный на одной странице каталога, а вернёт объект типа `pd.DataFrame` со столбцами `title`, `price` и `price_sale` (столбец `sex` добавим позже), где содержатся данные о позициях с этой страницы каталога.\n",
    "\n",
    "<br>\n"
   ]
  },
  {
   "cell_type": "code",
   "execution_count": 6,
   "metadata": {},
   "outputs": [],
   "source": [
    "import requests\n",
    "from bs4 import BeautifulSoup"
   ]
  },
  {
   "cell_type": "code",
   "execution_count": 7,
   "metadata": {},
   "outputs": [
    {
     "name": "stdout",
     "output_type": "stream",
     "text": [
      "Requirement already satisfied: fake-useragent in c:\\users\\asus\\anaconda3\\lib\\site-packages (0.1.11)\n"
     ]
    }
   ],
   "source": [
    "!pip install fake-useragent"
   ]
  },
  {
   "cell_type": "code",
   "execution_count": 8,
   "metadata": {},
   "outputs": [],
   "source": [
    "from fake_useragent import UserAgent"
   ]
  },
  {
   "cell_type": "code",
   "execution_count": 9,
   "metadata": {},
   "outputs": [],
   "source": [
    "import pandas as pd"
   ]
  },
  {
   "cell_type": "code",
   "execution_count": 10,
   "metadata": {},
   "outputs": [],
   "source": [
    "def get_data_from_asos_page(soup):\n",
    "    title_list = []\n",
    "    price_list = []\n",
    "    for i in range(m):\n",
    "        title_list.append(soup(attrs = {'class': '_2qG85dG'})[i].p.text)\n",
    "        price_list.append(convert_price_to_num(soup(attrs = {'class': '_2qG85dG'})[i].span.text))\n",
    "    return pd.DataFrame({'title': title_list, 'price': price_list})"
   ]
  },
  {
   "cell_type": "code",
   "execution_count": 11,
   "metadata": {},
   "outputs": [],
   "source": [
    "def collect_data(catalogue_start_url):\n",
    "\n",
    "    \"\"\" \n",
    "    Собирает данные из выбранного раздела в датафрейм с 3 столбцами: title, price, price_sale \n",
    "    catalogue_start_url - ссылка url на первую страницу раздела, оканчивающаяся на 'page=1'\n",
    "\n",
    "    \"\"\"\n",
    "    \n",
    "    response = requests.get(catalogue_start_url, headers={'User-Agent': UserAgent().chrome})\n",
    "    soup = BeautifulSoup(response.text) # soup первой страницы раздела\n",
    "    \n",
    "    def num_items(SOUP):\n",
    "        \"\"\"\" \n",
    "        Определяет число элементов всего в разделе (N) и число элементов на каждой странице (m) \n",
    "        \"\"\"\n",
    "    \n",
    "        soup_n = SOUP(attrs = {'class': \"XmcWz6U\"})[0]\n",
    "        pos_1 = soup_n.text.find('ли ')\n",
    "        pos_2 = soup_n.text.find('из ')\n",
    "        pos_3 = soup_n.text.find(' товаров')\n",
    "        N = int(soup_n.text[pos_2+3 : pos_3].replace(' ', ''))\n",
    "        m = int(soup_n.text[pos_1+3 : pos_2].replace(' ', ''))\n",
    "        return [N, m]\n",
    "    \n",
    "    def get_data_from_asos_page(SOUP):     \n",
    "    \n",
    "        \"\"\"\" \n",
    "        Собирает данные с выбранной страницы раздела\n",
    "        SOUP - soup страницы url которой заканчивается на 'page=i', i = 1,2,3,..\n",
    "    \n",
    "        \"\"\"\n",
    "        title_list = []\n",
    "        price_list = []\n",
    "        sale_list = []\n",
    "        \n",
    "        s = SOUP(attrs = {'class': '_2qG85dG'})\n",
    "        \n",
    "        i = 0    \n",
    "        \n",
    "        while i <= len(s)-1:\n",
    "            title_list.append(s[i].p.text)\n",
    "            price_list.append(convert_price_to_num(s[i].span.text))\n",
    "            try:\n",
    "                sale_list.append(convert_price_to_num(s[i].find_all('span')[3].text))\n",
    "            except:\n",
    "                sale_list.append(0)\n",
    "            i+=1\n",
    "        return pd.DataFrame({'title': title_list, 'price': price_list, 'price_sale': sale_list})\n",
    "\n",
    "    df = pd.DataFrame()\n",
    "    \n",
    "    for i in range(1, num_items(soup)[0]//num_items(soup)[1]+2):\n",
    "        url = catalogue_start_url[:-1]+'{}'.format(str(i))\n",
    "        response_ = requests.get(url, headers={'User-Agent': UserAgent().chrome})\n",
    "        soup_ = BeautifulSoup(response_.text)\n",
    "        df = pd.concat([df, get_data_from_asos_page(soup_)], axis = 0)\n",
    "\n",
    "    return df.reset_index().iloc[:, 1:]"
   ]
  },
  {
   "cell_type": "markdown",
   "metadata": {},
   "source": [
    "<br>"
   ]
  },
  {
   "cell_type": "markdown",
   "metadata": {},
   "source": [
    "После того, как мы научились собирать данные с одной страницы каталога, нужно собрать всё, пройдя по всем страницам. Мы можем начать с первой страницы, и увеличивать число в конце URL, таким образом получая ссылки на следующую страницу каталога.\n",
    "\n",
    "Однако, нам нужно в какой-то момент остановиться. Какой критерий мы можем выбрать для остановки?\n",
    "\n",
    "Если Вы перейдёте в каталог по ссылке, то увидите внизу страницы кнопку \"Загрузить ещё\". Однако, эта кнопка присутсвует не на всех страницах каталога. Проведите эксперимент: \n",
    "* подсчитайте сколько позиций размещается на одной странице\n",
    "* посмотрите сколько всего позиций в каталоге\n",
    "* поделите одно число на другой, и узнайте, сколько страниц должно быть в каталоге\n",
    "* перейдите на последнюю страницу каталога\n",
    "\n",
    "Вы увидите, что на последней странице каталога кнопки \"Загрузить ещё\" нет, потому что загружать больше нечего. Таким образом, мы можем воспользоваться этой кнопкой как критерием. Если такая кнопка наличиствует на странице, мы можем двигаться дальше по каталогу. Если же такой кнопки нет, то мы достигли последней страницы, и после обработки её можем остановиться.\n",
    "\n",
    "Давайте же реализуем вспомогательную функцию `has_next_page`, которая на вход будет принимать объект типа `bs4.BeautifulSoup`, а на выходе выдавать `True` или `False`, в зависимости от того, есть на странице кнопка \"Загрузить ещё\", или нет."
   ]
  },
  {
   "cell_type": "code",
   "execution_count": 14,
   "metadata": {},
   "outputs": [],
   "source": [
    "male_prices = collect_data(male_url)"
   ]
  },
  {
   "cell_type": "code",
   "execution_count": 15,
   "metadata": {},
   "outputs": [],
   "source": [
    "female_prices = collect_data(female_url)"
   ]
  },
  {
   "cell_type": "code",
   "execution_count": 16,
   "metadata": {},
   "outputs": [],
   "source": [
    "male_prices['gender'] = 'male'\n",
    "female_prices['gender'] = 'female'\n",
    "\n",
    "prices = pd.concat([male_prices, female_prices], ignore_index=True)"
   ]
  },
  {
   "cell_type": "markdown",
   "metadata": {},
   "source": [
    "Табличку можно сохранить в файл, чтобы не пришлось опять извлекать данные, если Вы вдруг захотите сделать паузу."
   ]
  },
  {
   "cell_type": "code",
   "execution_count": 17,
   "metadata": {},
   "outputs": [],
   "source": [
    "# Сохраняем в файл\n",
    "prices.to_csv('asos_prices.csv', index=None)"
   ]
  },
  {
   "cell_type": "code",
   "execution_count": 18,
   "metadata": {},
   "outputs": [],
   "source": [
    "# Считываем из файла\n",
    "prices = pd.read_csv('asos_prices.csv')"
   ]
  },
  {
   "cell_type": "code",
   "execution_count": 19,
   "metadata": {},
   "outputs": [
    {
     "data": {
      "text/html": [
       "<div>\n",
       "<style scoped>\n",
       "    .dataframe tbody tr th:only-of-type {\n",
       "        vertical-align: middle;\n",
       "    }\n",
       "\n",
       "    .dataframe tbody tr th {\n",
       "        vertical-align: top;\n",
       "    }\n",
       "\n",
       "    .dataframe thead th {\n",
       "        text-align: right;\n",
       "    }\n",
       "</style>\n",
       "<table border=\"1\" class=\"dataframe\">\n",
       "  <thead>\n",
       "    <tr style=\"text-align: right;\">\n",
       "      <th></th>\n",
       "      <th>title</th>\n",
       "      <th>price</th>\n",
       "      <th>price_sale</th>\n",
       "      <th>gender</th>\n",
       "    </tr>\n",
       "  </thead>\n",
       "  <tbody>\n",
       "    <tr>\n",
       "      <th>0</th>\n",
       "      <td>Низкие кожаные кроссовки белого цвета Nike Blazer</td>\n",
       "      <td>7299.0</td>\n",
       "      <td>4790.0</td>\n",
       "      <td>male</td>\n",
       "    </tr>\n",
       "    <tr>\n",
       "      <th>1</th>\n",
       "      <td>Джинсовые кроссовки Vans эксклюзивно для ASOS</td>\n",
       "      <td>5190.0</td>\n",
       "      <td>2890.0</td>\n",
       "      <td>male</td>\n",
       "    </tr>\n",
       "    <tr>\n",
       "      <th>2</th>\n",
       "      <td>Джинсовые кеды-слипоны Vans Classic эксклюзивн...</td>\n",
       "      <td>4890.0</td>\n",
       "      <td>3490.0</td>\n",
       "      <td>male</td>\n",
       "    </tr>\n",
       "    <tr>\n",
       "      <th>3</th>\n",
       "      <td>Синие кроссовки adidas Originals retroset</td>\n",
       "      <td>5990.0</td>\n",
       "      <td>4190.0</td>\n",
       "      <td>male</td>\n",
       "    </tr>\n",
       "    <tr>\n",
       "      <th>4</th>\n",
       "      <td>Кроссовки Reebok Pride Club C</td>\n",
       "      <td>5990.0</td>\n",
       "      <td>4190.0</td>\n",
       "      <td>male</td>\n",
       "    </tr>\n",
       "    <tr>\n",
       "      <th>...</th>\n",
       "      <td>...</td>\n",
       "      <td>...</td>\n",
       "      <td>...</td>\n",
       "      <td>...</td>\n",
       "    </tr>\n",
       "    <tr>\n",
       "      <th>1083</th>\n",
       "      <td>Бежевые кроссовки adidas Training Ultraboost 19</td>\n",
       "      <td>13690.0</td>\n",
       "      <td>10990.0</td>\n",
       "      <td>female</td>\n",
       "    </tr>\n",
       "    <tr>\n",
       "      <th>1084</th>\n",
       "      <td>Белые замшевые кроссовки с черными вставками R...</td>\n",
       "      <td>6990.0</td>\n",
       "      <td>5090.0</td>\n",
       "      <td>female</td>\n",
       "    </tr>\n",
       "    <tr>\n",
       "      <th>1085</th>\n",
       "      <td>Белый классический кроп-топ Puma</td>\n",
       "      <td>2190.0</td>\n",
       "      <td>1690.0</td>\n",
       "      <td>female</td>\n",
       "    </tr>\n",
       "    <tr>\n",
       "      <th>1086</th>\n",
       "      <td>Черный бюстгальтер с логотипом adidas Training</td>\n",
       "      <td>2190.0</td>\n",
       "      <td>1490.0</td>\n",
       "      <td>female</td>\n",
       "    </tr>\n",
       "    <tr>\n",
       "      <th>1087</th>\n",
       "      <td>Серая футболка с логотипом Puma essentials</td>\n",
       "      <td>1090.0</td>\n",
       "      <td>690.0</td>\n",
       "      <td>female</td>\n",
       "    </tr>\n",
       "  </tbody>\n",
       "</table>\n",
       "<p>1088 rows × 4 columns</p>\n",
       "</div>"
      ],
      "text/plain": [
       "                                                  title    price  price_sale  \\\n",
       "0     Низкие кожаные кроссовки белого цвета Nike Blazer   7299.0      4790.0   \n",
       "1         Джинсовые кроссовки Vans эксклюзивно для ASOS   5190.0      2890.0   \n",
       "2     Джинсовые кеды-слипоны Vans Classic эксклюзивн...   4890.0      3490.0   \n",
       "3             Синие кроссовки adidas Originals retroset   5990.0      4190.0   \n",
       "4                        Кроссовки Reebok Pride Club C    5990.0      4190.0   \n",
       "...                                                 ...      ...         ...   \n",
       "1083    Бежевые кроссовки adidas Training Ultraboost 19  13690.0     10990.0   \n",
       "1084  Белые замшевые кроссовки с черными вставками R...   6990.0      5090.0   \n",
       "1085                   Белый классический кроп-топ Puma   2190.0      1690.0   \n",
       "1086     Черный бюстгальтер с логотипом adidas Training   2190.0      1490.0   \n",
       "1087         Серая футболка с логотипом Puma essentials   1090.0       690.0   \n",
       "\n",
       "      gender  \n",
       "0       male  \n",
       "1       male  \n",
       "2       male  \n",
       "3       male  \n",
       "4       male  \n",
       "...      ...  \n",
       "1083  female  \n",
       "1084  female  \n",
       "1085  female  \n",
       "1086  female  \n",
       "1087  female  \n",
       "\n",
       "[1088 rows x 4 columns]"
      ]
     },
     "execution_count": 19,
     "metadata": {},
     "output_type": "execute_result"
    }
   ],
   "source": [
    "prices"
   ]
  },
  {
   "cell_type": "markdown",
   "metadata": {},
   "source": [
    "<br><br><br>"
   ]
  },
  {
   "cell_type": "markdown",
   "metadata": {},
   "source": [
    "## Часть 2. Анализ (4 балла)"
   ]
  },
  {
   "cell_type": "markdown",
   "metadata": {},
   "source": [
    "В этом блоке мы немного повизуализируем и поанализируем собранные данные. Тем, кто забыл, как рисовать графики, стоит пересмотреть лекцию с четвёртой недели курса."
   ]
  },
  {
   "cell_type": "markdown",
   "metadata": {},
   "source": [
    "Ответьте на вопросы и выполните следующие задания:\n",
    "\n",
    "1. Нарисуйте гистограмму цен на товары для М и для Ж. Гистограммы для М и для Ж должны быть на одном графике. Добавье заголовок, подписи осей, легенду графика. Выберите нужный уровень прозрачности (см. параметр `alpha`), чтобы обе гистограммы были видны. Гистограммы должны быть нормализованные (см. параметр `density`)\n",
    "2. Нарисуйте диаграмму рассеивания: \"цена на товар\" vs \"цена на этот товар со скидкой\". Не забудьте про заголовки и подписи осей.\n",
    "3. Какой процент товаров со скидкой? А если смотреть только на мужские товары? А если только на женские?\n",
    "4. Какова средняя скидка (в процентах)? Нарисуйте гистограмму. А средняя скидка в разрезе только мужских товаров? А только женских? Нарисуйте гистограмму для разрезов М/Ж (требования к гистограмме такие же, как в п. 1)\n",
    "5. Каковая минимальная/средняя/максимальная цена за пару обуви? А 95-процентиль? А в разрезе М? А в разрезе Ж?\n",
    "6. Можно ли утверждать, что цены на обувь распределены нормально?\n",
    "7. Можно ли утверждать, что логарифмы от цен на обувь распределены нормально?\n",
    "8. Можно ли утверждать, что средняя цена за пару обуви в мужской и в женской категориях одинакова?\n",
    "\n",
    "Критерии:\n",
    "* Полный и верный ответ на каждый вопрос приносит **0.5 баллов**."
   ]
  },
  {
   "cell_type": "code",
   "execution_count": 20,
   "metadata": {},
   "outputs": [
    {
     "data": {
      "text/plain": [
       "<Figure size 640x480 with 1 Axes>"
      ]
     },
     "metadata": {},
     "output_type": "display_data"
    }
   ],
   "source": [
    "# 1\n",
    "\n",
    "import matplotlib.pyplot as plt\n",
    "import numpy as np\n",
    "plt.hist(prices[prices.gender == 'male'].price, bins=10, alpha = 0.3, density = True, color = 'blue')\n",
    "plt.hist(prices[prices.gender == 'female'].price, bins=10, alpha = 0.3, density = True, color = 'red')\n",
    "plt.xlabel(\"Интервалы\")\n",
    "plt.ylabel(\"Нормализованная частота\")\n",
    "plt.title('Гистограма цен для мужчин(синим) и женщин(красным)')\n",
    "\n",
    "plt.show()"
   ]
  },
  {
   "cell_type": "code",
   "execution_count": 21,
   "metadata": {},
   "outputs": [
    {
     "data": {
      "image/png": "[encoded data removed]",
      "text/plain": [
       "<Figure size 720x432 with 1 Axes>"
      ]
     },
     "metadata": {
      "needs_background": "light"
     },
     "output_type": "display_data"
    }
   ],
   "source": [
    "# 2\n",
    "\n",
    "fig, ax = plt.subplots(figsize=(10, 6))\n",
    "ax.scatter(x = prices['price'], y = prices['price_sale'])\n",
    "plt.xlabel(\"Цена на товар\")\n",
    "plt.ylabel(\"Цена на товар со скидкой\")\n",
    "plt.title('\"Цена на товар\" vs \"Цена на товар со скидкой\"')\n",
    "\n",
    "plt.show()"
   ]
  },
  {
   "cell_type": "code",
   "execution_count": 22,
   "metadata": {},
   "outputs": [
    {
     "name": "stdout",
     "output_type": "stream",
     "text": [
      "male percent:  1.0\n",
      "female percent:  1.0\n"
     ]
    },
    {
     "name": "stderr",
     "output_type": "stream",
     "text": [
      "C:\\Users\\Asus\\Anaconda3\\lib\\site-packages\\ipykernel_launcher.py:5: UserWarning: Boolean Series key will be reindexed to match DataFrame index.\n",
      "  \"\"\"\n",
      "C:\\Users\\Asus\\Anaconda3\\lib\\site-packages\\ipykernel_launcher.py:10: UserWarning: Boolean Series key will be reindexed to match DataFrame index.\n",
      "  # Remove the CWD from sys.path while we load stuff.\n"
     ]
    }
   ],
   "source": [
    "# 3\n",
    "\n",
    "# Процент мужских товаров со скидкой\n",
    "disc = prices.price - prices.price_sale\n",
    "male_pr = len(prices[prices.gender == 'male'][disc != 0]) / len(prices[prices.gender == 'male'].price_sale) \n",
    "\n",
    "print('male percent: ', male_pr)\n",
    "\n",
    "# Процент женских товаров со скидкой\n",
    "female_pr = len(prices[prices.gender == 'female'][disc != 0]) / len(prices[prices.gender == 'female'].price_sale) \n",
    "print('female percent: ', male_pr)\n",
    "\n",
    "# Так как взяли категорию товаров по акции то оба числа будут равны 1"
   ]
  },
  {
   "cell_type": "code",
   "execution_count": 23,
   "metadata": {},
   "outputs": [],
   "source": [
    "# 4"
   ]
  },
  {
   "cell_type": "code",
   "execution_count": 24,
   "metadata": {},
   "outputs": [],
   "source": [
    "prices['disc(%)'] = (prices.price-prices.price_sale)/prices.price * 100"
   ]
  },
  {
   "cell_type": "code",
   "execution_count": 25,
   "metadata": {},
   "outputs": [
    {
     "data": {
      "image/png": "[encoded data removed]",
      "text/plain": [
       "<Figure size 432x288 with 1 Axes>"
      ]
     },
     "metadata": {
      "needs_background": "light"
     },
     "output_type": "display_data"
    }
   ],
   "source": [
    "plt.hist(prices['disc(%)'], bins=10, color = 'green', alpha = 0.3)\n",
    "plt.xlabel(\"Интервалы\")\n",
    "plt.ylabel(\"Частота\")\n",
    "plt.title('Гистограма для признака \"Скидка на товар в %\"')\n",
    "\n",
    "plt.show()"
   ]
  },
  {
   "cell_type": "code",
   "execution_count": 26,
   "metadata": {},
   "outputs": [
    {
     "name": "stdout",
     "output_type": "stream",
     "text": [
      "Средняя скидка в процентах: 30.98 %\n",
      "Средняя скидка в процентах для мужских товаров: 32.60 %\n",
      "Средняя скидка в процентах для женских товаров: 29.87 %\n"
     ]
    }
   ],
   "source": [
    "print('Средняя скидка в процентах: {0:.2f} %'.format(prices['disc(%)'].mean(), ))\n",
    "print('Средняя скидка в процентах для мужских товаров: {0:.2f} %'.format(prices[prices.gender == 'male']['disc(%)'].mean(), ))\n",
    "print('Средняя скидка в процентах для женских товаров: {0:.2f} %'.format(prices[prices.gender == 'female']['disc(%)'].mean(), ))"
   ]
  },
  {
   "cell_type": "code",
   "execution_count": 27,
   "metadata": {},
   "outputs": [
    {
     "data": {
      "image/png": "[encoded data removed]",
      "text/plain": [
       "<Figure size 432x288 with 1 Axes>"
      ]
     },
     "metadata": {
      "needs_background": "light"
     },
     "output_type": "display_data"
    }
   ],
   "source": [
    "plt.hist(prices[prices.gender == 'male']['disc(%)'], bins=10, alpha = 0.3, density = True, color = 'blue')\n",
    "plt.hist(prices[prices.gender == 'female']['disc(%)'], bins=10, alpha = 0.3, density = True, color = 'red')\n",
    "plt.xlabel(\"Интервалы\")\n",
    "plt.ylabel(\"Нормализованная частота\")\n",
    "plt.title('Гистограма для признака \"Скидка на товар в %\" для мужчин(синим) и женщин(красным)')\n",
    "\n",
    "plt.show()"
   ]
  },
  {
   "cell_type": "code",
   "execution_count": 28,
   "metadata": {},
   "outputs": [
    {
     "name": "stdout",
     "output_type": "stream",
     "text": [
      "Для всех товаров:\n",
      "Минимальная стоимость товара: 950.00 рублей\n",
      "Максимальная стоимость товара: 17490.00 рублей\n",
      "Средняя стоимость товара: 4205.05 рублей\n",
      "95-% перцентиль для стоимости товара: 8690.00 рублей\n",
      "\n",
      "\n",
      "В разрезе мужчин:\n",
      "Минимальная стоимость товара: 950.00 рублей\n",
      "Максимальная стоимость товара: 15390.00 рублей\n",
      "Средняя стоимость товара: 4087.35 рублей\n",
      "95-% перцентиль для стоимости товара: 8140.00 рублей\n",
      "\n",
      "\n",
      "В разрезе женщин:\n",
      "Минимальная стоимость товара: 1090.00 рублей\n",
      "Максимальная стоимость товара: 17490.00 рублей\n",
      "Средняя стоимость товара: 4285.58 рублей\n",
      "95-% перцентиль для стоимости товара: 8962.50 рублей\n"
     ]
    }
   ],
   "source": [
    "# 5\n",
    "# Для всех товаров\n",
    "print('Для всех товаров:')\n",
    "print('Минимальная стоимость товара: {0:.2f} рублей'.format(prices.price.describe()[3]))\n",
    "print('Максимальная стоимость товара: {0:.2f} рублей'.format(prices.price.describe()[7]))\n",
    "print('Средняя стоимость товара: {0:.2f} рублей'.format(prices.price.describe()[1]))\n",
    "print('95-% перцентиль для стоимости товара: {0:.2f} рублей'.format(prices.price.quantile(0.95)))\n",
    "\n",
    "# В разрезе мужчин\n",
    "print('\\n')\n",
    "print(\"В разрезе мужчин:\")\n",
    "print('Минимальная стоимость товара: {0:.2f} рублей'.format(prices[prices.gender == 'male'].price.describe()[3]))\n",
    "print('Максимальная стоимость товара: {0:.2f} рублей'.format(prices[prices.gender == 'male'].price.describe()[7]))\n",
    "print('Средняя стоимость товара: {0:.2f} рублей'.format(prices[prices.gender == 'male'].price.describe()[1]))\n",
    "print('95-% перцентиль для стоимости товара: {0:.2f} рублей'.format(prices[prices.gender == 'male'].price.quantile(0.95)))\n",
    "\n",
    "# В разрезе женщин\n",
    "print('\\n')\n",
    "print(\"В разрезе женщин:\")\n",
    "print('Минимальная стоимость товара: {0:.2f} рублей'.format(prices[prices.gender == 'female'].price.describe()[3]))\n",
    "print('Максимальная стоимость товара: {0:.2f} рублей'.format(prices[prices.gender == 'female'].price.describe()[7]))\n",
    "print('Средняя стоимость товара: {0:.2f} рублей'.format(prices[prices.gender == 'female'].price.describe()[1]))\n",
    "print('95-% перцентиль для стоимости товара: {0:.2f} рублей'.format(prices[prices.gender == 'female'].price.quantile(0.95)))"
   ]
  },
  {
   "cell_type": "code",
   "execution_count": 29,
   "metadata": {},
   "outputs": [
    {
     "name": "stdout",
     "output_type": "stream",
     "text": [
      "Для изначальных данных: \n",
      " Цены распределены не нормально, нулевая гипотеза отвергается с вероятностью ошибки alpha = 0.05, (p-value = 0.0000 < 0.05)\n",
      "\n",
      "\n",
      "Для логарифмов \n",
      " Цены распределены не нормально, нулевая гипотеза отвергается с вероятностью ошибки alpha = 0.05, (p-value = 0.0000 < 0.05)\n"
     ]
    }
   ],
   "source": [
    "# 6 - 7\n",
    "\n",
    "# Проверка распределения цен на нормальность\n",
    "# Воспользуемся тестом Шапиро-Уилка\n",
    "# Нулевая гипотеза теста: данные принадлежат нормальному распределению\n",
    "# The Shapiro-Wilk test tests the null hypothesis that the data was drawn from a normal distribution\n",
    "# Возьмем стандартное альфа = 0.05 (при желании можно изменить)\n",
    "alpha = 0.05\n",
    "from scipy import stats\n",
    "\n",
    "def Shapiro(series):\n",
    "    shapiro_test = stats.shapiro(series)\n",
    "    if shapiro_test[1] < alpha:\n",
    "        return ('Цены распределены не нормально, нулевая гипотеза отвергается с вероятностью ошибки'+\n",
    "      ' alpha = {0}, (p-value = {1:} < {2})'.format(str(alpha), \"%.4f\" % float(str(float(shapiro_test[1]))), str(alpha)))\n",
    "    else:\n",
    "        return ('Цены распределены нормально, нулевая гипотеза не отвергается на уровне значимости'+\n",
    "      ' alpha = {0}, (p-value = {1:} > {2})'.format(str(alpha), \"%.4f\" % float(str(float(shapiro_test[1]))), str(alpha)))\n",
    "\n",
    "print('Для изначальных данных: \\n', Shapiro(prices.price))\n",
    "print('\\n')\n",
    "print('Для логарифмов \\n', Shapiro(np.log(prices.price)))"
   ]
  },
  {
   "cell_type": "code",
   "execution_count": 30,
   "metadata": {},
   "outputs": [
    {
     "data": {
      "text/plain": [
       "'Дисперсии выборок равны (выборки исходят из одной и той же генеральной совокупности), нулевая гипотеза не отвергается на уровне значимости alpha = 0.05, (p-value = 0.3385 > 0.05). Можно использовать тест Стьюдента.'"
      ]
     },
     "execution_count": 30,
     "metadata": {},
     "output_type": "execute_result"
    }
   ],
   "source": [
    "# 8\n",
    "\n",
    "# Для сравнения цен проведем тест Стьюдента для 2 выборок. \n",
    "# Для этого необходимо, чтоб соблюдались предпосылки о нормальности, независимости и гомогенности дисперсий\n",
    "# Независимость соблюдается, так как берем данные из общей выборки\n",
    "# Нормальность не соблюдается (но ей можно пренебречь)\n",
    "# Гомогенность дисперсий проверим спомощью теста Левина, который устойчив к отклонениям от нормальности\n",
    "# Если дисперсии не равны, то используем t-test Уэлча (с корректировкой на неравенство дисперсий)\n",
    "\n",
    "def Levene(series1, series2):\n",
    "    levene_test = stats.levene(series1, series2)\n",
    "    \n",
    "    if levene_test[1] < alpha:\n",
    "        return ('Дисперсии выборок не равны, нулевая гипотеза отвергается с вероятностью ошибки'+\n",
    "      ' alpha = {0}, (p-value = {1:} < {2}). Нарушается предпосылка теста Стьюдента.'.format(str(alpha), \"%.4f\" % float(str(float(levene_test[1]))), str(alpha)))\n",
    "    else:\n",
    "        return ('Дисперсии выборок равны (выборки исходят из одной и той же генеральной совокупности),' \n",
    "                +' нулевая гипотеза не отвергается на уровне значимости'+\n",
    "      ' alpha = {0}, (p-value = {1:} > {2}). Можно использовать тест Стьюдента.'.format(str(alpha), \"%.4f\" % float(str(float(levene_test[1]))), str(alpha)))\n",
    "\n",
    "Levene(prices[prices.gender == 'male'].price, prices[prices.gender == 'female'].price)"
   ]
  },
  {
   "cell_type": "code",
   "execution_count": 31,
   "metadata": {},
   "outputs": [
    {
     "data": {
      "text/plain": [
       "'Различия в средних значениях для 2 выборок статистически не значимы, нулевая гипотеза не отвергается на уровне значимости alpha = 0.05, (p-value = 0.1962 > 0.05)'"
      ]
     },
     "execution_count": 31,
     "metadata": {},
     "output_type": "execute_result"
    }
   ],
   "source": [
    "# Если пренебречь предпосылкой о нормальности, сославшись на центральную предельную теорему (ЦПТ)\n",
    "\n",
    "def ttest(series1, series2):\n",
    "    t_test = stats.ttest_ind(series1, series2)\n",
    "    if t_test[1] < alpha:\n",
    "        return ('Средние значения выборок статистически не равны между собой, нулевая гипотеза отвергается с вероятностью ошибки'+\n",
    "      ' alpha = {0}, (p-value = {1:} < {2})'.format(str(alpha), \"%.4f\" % float(str(float(t_test[1]))), str(alpha)))\n",
    "    else:\n",
    "        return ('Различия в средних значениях для 2 выборок статистически не значимы,' \n",
    "                +' нулевая гипотеза не отвергается на уровне значимости'+\n",
    "      ' alpha = {0}, (p-value = {1:} > {2})'.format(str(alpha), \"%.4f\" % float(str(float(t_test[1]))), str(alpha)))\n",
    "\n",
    "ttest(prices[prices.gender == 'male'].price, prices[prices.gender == 'female'].price)"
   ]
  },
  {
   "cell_type": "code",
   "execution_count": 32,
   "metadata": {},
   "outputs": [
    {
     "data": {
      "text/plain": [
       "'Вероятность того, что случайно выбранное значение из 1 выборки больше случайно выбранного значения из 2 выборки равна вероятности того, что случайно выбранное значение из 2 выборки больше, чем случайно выбранное значение из 1 выборки, нулевая гипотеза не отвергается на уровне значимости alpha = 0.05, (p-value = 0.1499 > 0.05)'"
      ]
     },
     "execution_count": 32,
     "metadata": {},
     "output_type": "execute_result"
    }
   ],
   "source": [
    "# Если не пренебрегать предпосылкой о нормальности\n",
    "\n",
    "# Нарушается предпосылка о нормальности для теста Стьюдента (строго говоря не можем его использовать)\n",
    "# Не можем сравнить средние, чтоб p-value и значения статистики были достоверные\n",
    "# Используем непараметрический тест Манна-Уитни \n",
    "# Но строго говоря, тест сравнивает распределения, а не средние выборок \n",
    "# Поэтому по сути не отвечаем на вопрос задания\n",
    "\n",
    "def MW_test(series1, series2):\n",
    "    mv_test = stats.mannwhitneyu(series1, series2)\n",
    "    if mv_test[1] < alpha:\n",
    "        return ('Вероятность того, что случайно выбранное значение из 1 выборки больше случайно выбранного значения из 2 выборки' \n",
    "                ' не равна вероятности того, что случайно выбранное значение из 2 выборки больше, чем случайно выбранное значение из' \n",
    "                ' 1 выборки, нулевая гипотеза отвергается с вероятностью ошибки'+\n",
    "      ' alpha = {0}, (p-value = {1:} < {2})'.format(str(alpha), \"%.4f\" % float(str(float(mv_test[1]))), str(alpha)))\n",
    "    else:\n",
    "        return ('Вероятность того, что случайно выбранное значение из 1 выборки больше случайно выбранного значения из 2 выборки' \n",
    "                ' равна вероятности того, что случайно выбранное значение из 2 выборки больше, чем случайно выбранное значение из' \n",
    "                ' 1 выборки, нулевая гипотеза не отвергается на уровне значимости'+\n",
    "      ' alpha = {0}, (p-value = {1:} > {2})'.format(str(alpha), \"%.4f\" % float(str(float(mv_test[1]))), str(alpha)))\n",
    "MW_test(prices[prices.gender == 'male'].price, prices[prices.gender == 'female'].price)"
   ]
  },
  {
   "cell_type": "code",
   "execution_count": null,
   "metadata": {},
   "outputs": [],
   "source": []
  }
 ],
 "metadata": {
  "kernelspec": {
   "display_name": "Python 3",
   "language": "python",
   "name": "python3"
  },
  "language_info": {
   "codemirror_mode": {
    "name": "ipython",
    "version": 3
   },
   "file_extension": ".py",
   "mimetype": "text/x-python",
   "name": "python",
   "nbconvert_exporter": "python",
   "pygments_lexer": "ipython3",
   "version": "3.7.1"
  }
 },
 "nbformat": 4,
 "nbformat_minor": 4
}
